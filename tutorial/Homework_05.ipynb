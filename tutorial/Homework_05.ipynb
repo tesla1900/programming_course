{
 "cells": [
  {
   "cell_type": "markdown",
   "metadata": {
    "nbgrader": {
     "grade": false,
     "grade_id": "cell-515e01b25bda86a9",
     "locked": true,
     "schema_version": 3,
     "solution": false,
     "task": false
    }
   },
   "source": [
    "# Exercises and Homework for week 5"
   ]
  },
  {
   "cell_type": "markdown",
   "metadata": {
    "nbgrader": {
     "grade": false,
     "grade_id": "cell-14ca577e70096fbf",
     "locked": true,
     "schema_version": 3,
     "solution": false,
     "task": false
    }
   },
   "source": [
    "## physics718: Programming in Physics and Astronomy with C++ or Python (SS 2022)\n",
    "Nina Stiesdal & Thomas Erben"
   ]
  },
  {
   "cell_type": "markdown",
   "metadata": {
    "nbgrader": {
     "grade": false,
     "grade_id": "cell-58e8949e2e41603c",
     "locked": true,
     "schema_version": 3,
     "solution": false,
     "task": false
    }
   },
   "source": [
    "Homework is due on **Wednesday, 18/05/2022, 23:59pm**\n",
    "\n",
    " * You only learn a programming language by actively praticing and using it! We therefore **strongly** advise you to work on the homework problems.\n",
    " * Please discuss the problems with your student peers and with your tutor.\n",
    " * Your code(s) need(s) to be well and appropriately commented!\n",
    " * Submit this notebook and, if necessary, additional files in a `tar`-archive with name `Homework_5_group_XX.tgz` (replace `XX` with your group number) to your tutor.\n",
    "\n",
    "**Topics of this exercise:**\n",
    " * Two-dimensional `numpy`-arrays\n",
    " * Python lists and strings\n",
    " * 1D and 2D plots with matplotlib"
   ]
  },
  {
   "cell_type": "markdown",
   "metadata": {},
   "source": [
    "**Your group number here please:**  Group 05_03"
   ]
  },
  {
   "cell_type": "markdown",
   "metadata": {},
   "source": [
    "## 1. Lecture Review (0 points)"
   ]
  },
  {
   "cell_type": "markdown",
   "metadata": {},
   "source": [
    "If you did the lecture review questions [03_Lecture_Review.ipynb](03_Lecture_Review.ipynb) (strongly recommended!): \n",
    "Please discuss with your tutor and your group any issues/problems you had with them."
   ]
  },
  {
   "cell_type": "markdown",
   "metadata": {},
   "source": [
    "## 2. Plots of vector fields (0 points)\n",
    "Please study the notebook [04_vector_fields_matplotlib.ipynb](04_vector_fields_matplotlib.ipynb) to plot vector fields with `matplotlib`. You will need it in task 3."
   ]
  },
  {
   "cell_type": "markdown",
   "metadata": {
    "tags": []
   },
   "source": [
    "<a id='plate_condensator'></a>\n",
    "## 3. Electric field of a parallel-plate condensator (15 points)\n",
    "You learned about the parallel-plate condensator and its electric field in your experimental and theoretical physics classes. To start, you assume that the electric field within the condensator is homegeneous within the condensator:\n",
    "<img src=\"figs/condensator_simple.png\" style=\"height: 200px;\">"
   ]
  },
  {
   "cell_type": "markdown",
   "metadata": {},
   "source": [
    "In this exercise, we want to calculate the electric field within a bounded, two-dimensional region. You know from your theoretical physics classes that the electrical field $\\vec{E}(x, y)$ within a region, free of charges, can be obtained from the electric potential $\\Phi(x, y)$ via $\\vec{E}(x, y)=-\\nabla\\Phi(x, y)$. The electric potential in turn is covered by the two-dimensial Laplace equation:\n",
    "$$\n",
    "\\Delta \\Phi(x, y)=0.\n",
    "$$\n",
    "Please have a look at [Wikipedia](https://en.wikipedia.org/wiki/Mathematical_descriptions_of_the_electromagnetic_field) if you would like to fresh up your knowledge on electric fields, Maxwells equations and the like.\n",
    "\n",
    "The setup for this exercise is as follows:\n",
    "\n",
    "<img src=\"figs/condensator_layout.png\" style=\"height: 300px;\">"
   ]
  },
  {
   "cell_type": "markdown",
   "metadata": {},
   "source": [
    "We are given a bounded region as shown above and two condensator plates whose electric potentials are constant at $\\Phi=\\pm 1$. The potential at the boundary is constant at zero. To justify the latter condition, the condensator plates must be away far enough from the boundaries. For our purposes, the configuration above fulfills this condition. \n",
    "\n",
    "Your task is to determine the potential in the interior such that it fulfills the boundary conditions and $\\Delta\\Phi(x,y)=0$ everywhere else."
   ]
  },
  {
   "cell_type": "markdown",
   "metadata": {
    "tags": []
   },
   "source": [
    "### An iteration scheme to solve Laplaces equation with boundary conditions\n",
    "For our setup, we can numerically solve the equation $\\Delta\\Phi(x, y)=0$ in a region with boundary conditions as follows:\n",
    "1. We put a regular, two-dimensional grid of points on our region. Individual points are separated in $x$ and $y$ by $h_x$ and $h_y$ respectively. We will assume henceforth that $h=h_x=h_y$.\n",
    "2. $$ \\Delta\\Phi(x, y) = \\frac{\\partial}{\\partial x^2}\\Phi(x, y) + \\frac{\\partial}{\\partial y^2}\\Phi(x, y).$$\n",
    "We can numerically approximate the second derivatives via:\n",
    "$$\n",
    "\\frac{\\partial}{\\partial x^2}\\Phi(x, y) = \\frac{\\Phi(x+h, y)-2\\Phi(x, y)+\\Phi(x-h,y)}{h^2} + \\cal{O}(h^2)\n",
    "$$\n",
    "and similarily\n",
    "$$ \\frac{\\partial}{\\partial y^2}\\Phi(x, y) = \\frac{\\Phi(x, y+h)-2\\Phi(x, y)+\\Phi(x,y-h)}{h^2} + \\cal{O}(h^2)\n",
    "$$\n",
    "With $\\Delta\\Phi(x, y)=0$, we obtain by neglecting higher-order terms:\n",
    "$$\n",
    "\\Phi(x, y) = \\frac 14(\\Phi(x+h, y) + \\Phi(x-h, y) + \\Phi(x, y+h) + \\Phi(x, y-h)).\n",
    "$$\n",
    "3. The formulas in (2.) allow us the construction of an iteration scheme:\n",
    "  1. Set $\\Phi_0(x, y)$ to fulfill the boundary conditions and set it equal to zero everywhere else.\n",
    "  2. Calculate $\\Phi_1(x, y) = \\frac 14(\\Phi_0(x+h, y) + \\Phi_0(x-h, y) + \\Phi_0(x, y+h) + \\Phi_0(x, y-h))$. Hereby, you need to ensure that $\\Phi_1(x, y)$ still fulfills the boundary conditions!\n",
    "  3. Repeat step (2.). i.e. calculate $\\Phi_{n+1}(x, y) = \\frac 14(\\Phi_n(x+h, y) + \\Phi_n(x-h, y) + \\Phi_n(x, y+h) + \\Phi_n(x, y-h))$ until you reach convergence. We want to define convergence via $\\max \\left|\\Phi_{n+1}(x, y) - \\Phi_{n}(x, y)\\right| < 1.0\\cdot 10^{-4}$, where the maximum is taken over all grid-points."
   ]
  },
  {
   "cell_type": "markdown",
   "metadata": {},
   "source": [
    "### Your tasks"
   ]
  },
  {
   "cell_type": "markdown",
   "metadata": {},
   "source": [
    "Please write a program to implement the scheme above and to visualise the electric field of the parallel-plate condensator.\n",
    "\n",
    "1. Define your two-dimensional coordinate grid as shown above with 101 points in the $x$ and the $y$ dimensions.\n",
    "\n",
    "   **Note:** 101 points ensure a nice coverage of the interval $[0, 1]$ with points when using `np.linspace(0.0, 1.0, 101)`. To make this clear, consider the lower resolution case with 11 points:\n",
    "   ```\n",
    "   a = np.linspace(0.0, 1.0, 11)\n",
    "   print(a)\n",
    "   array([ 0. ,  0.1,  0.2,  0.3,  0.4,  0.5,  0.6,  0.7,  0.8,  0.9,  1. ])\n",
    "   ```\n",
    "2. I placed my condensator plates at $x_{left}=0.35$ and $x_{right}=0.65$. The extent in $y$ is $y_{low} = 0.35$ and $y_{high}=0.65$ but please feel free to experiment with other choices.\n",
    "3. Implement the iteration scheme above *without* any `for`-loops over the grid points but use `numpy`-slicing instead!\n",
    "4. Once you have estimated the potential $\\Phi(x,y)$, calculate the electric field via $\\vec{E}(x, y)=-\\nabla\\Phi(x, y)$ and visualise it. Please have a look at [this notebook](04_vector_fields_matplotlib.ipynb) to learn some basics on vector-plots with `matplotlib`."
   ]
  },
  {
   "cell_type": "code",
   "execution_count": 1,
   "metadata": {
    "scrolled": false
   },
   "outputs": [
    {
     "data": {
      "image/png": "[encoded data removed]",
      "text/plain": [
       "<Figure size 432x288 with 1 Axes>"
      ]
     },
     "metadata": {
      "needs_background": "light"
     },
     "output_type": "display_data"
    }
   ],
   "source": [
    "# Your solution here please\n",
    "\n",
    "import numpy as np\n",
    "import matplotlib.pyplot as plt\n",
    "\n",
    "coordinates = np.linspace(0, 1, 101)\n",
    "# coordinates = np.linspace(0, 1, 11)\n",
    "\n",
    "x_l = 35\n",
    "x_r = 65\n",
    "y_l = 35\n",
    "y_h = 65\n",
    "\n",
    "# x_l = 3\n",
    "# x_r = 7\n",
    "# y_l = 3\n",
    "# y_h = 7\n",
    "\n",
    "dh = coordinates[1] - coordinates[0]\n",
    "\n",
    "X, Y = np.meshgrid(coordinates, coordinates)\n",
    "\n",
    "phi = np.zeros((101, 101))\n",
    "\n",
    "def num_approx(phi, dh):\n",
    "    zeros_x = np.zeros((1, 101))\n",
    "    zeros_y = np.zeros((101, 1))\n",
    "    phi1 =  0.25 * (np.append(phi[1:, :], zeros_x, axis=0)  + np.append(zeros_x, phi[:-1, :], axis=0) + \n",
    "                    np.append(phi[:, 1:], zeros_y, axis=1) + np.append(zeros_y, phi[:, :-1], axis=1))\n",
    "    phi1[y_l:y_h, x_l] = -1\n",
    "    phi1[y_l:y_h, x_r] = 1\n",
    "    phi1[0,:] = 0\n",
    "    phi1[-1,:] = 0\n",
    "    phi1[:,0] = 0\n",
    "    phi1[:,-1] = 0\n",
    "    return phi1\n",
    "\n",
    "phi[y_l:y_h, x_l] = -1\n",
    "phi[y_l:y_h, x_r] = 1\n",
    "\n",
    "# print(phi)\n",
    "\n",
    "# print(num_approx(phi, dh))\n",
    "\n",
    "max_err = 1e-4\n",
    "\n",
    "error = np.max(np.abs(phi))\n",
    "while (error > max_err):\n",
    "    phi_new = num_approx(phi, dh)\n",
    "#     print(phi_new)\n",
    "    error = np.max(np.abs(phi_new - phi))\n",
    "#     print(error)\n",
    "    phi = phi_new\n",
    "\n",
    "Ey, Ex = np.gradient(-phi, dh, dh)\n",
    "fig, ax = plt.subplots()\n",
    "\n",
    "x_n = np.zeros(y_h-y_l)\n",
    "x_n[:] = x_l/101\n",
    "x_p = np.zeros(y_h-y_l)\n",
    "x_p[:] = x_r/101\n",
    "ax.streamplot(X, Y, Ex, Ey, color='blue', density=1.0)\n",
    "ax.plot(x_n, Y[y_l:y_h], x_p, Y[y_l:y_h], color='red', linewidth=5);"
   ]
  },
  {
   "cell_type": "markdown",
   "metadata": {
    "tags": []
   },
   "source": [
    "## 4. Word doubling (15 points)\n",
    "\n",
    "This task results in a very practical program which you can use when you write your next larger text (thesis, publication etc.).\n",
    "\n",
    "When writing a text, we often make the mistake to repeat a word.\n",
    "\n",
    "   ```\n",
    "   When typing longer texts, we often often make the mistake to\n",
    "   repeat individual words such as here here.\n",
    "\n",
    "   ```\n",
    "   \n",
    "Write a program which reads a text file and marks positions with such mistakes. You should print lines and linenumbers with double words. Consider also cases where a word doubling occurs directly before and after a line break.\n",
    "\n",
    "You can find a short example text for test purposes [here](data/double_words.txt).\n",
    "\n",
    "**Note:**\n",
    "An obvious ansatz for the problem is to read a line, to split it according to spaces, tabulators and line breaks and to perform the double word test. This, however is no complete solution to the problem! Consider again the above example:\n",
    "\n",
    "   ```\n",
    "   ... such as here here.\n",
    "   ```\n",
    "   \n",
    "The double word `here` would not be recognised because the second one is directly followed by a dot (end of sentence mark). There are similar issues with other punctuation marks such as semicolons, parentheses and so on. See the following cell for a possibility to take this into account.\n",
    "\n",
    "**Example:** The [example text](data/double_words.txt) gives the follwing output with my code:\n",
    "```\n",
    "Repetition in line 1. Word \"often\" at position 6!\n",
    "Repetition in line 2. Word \"here\" at position 6!\n",
    "Repetition of the first word \"words\" on line 5. It occured at the end of the previous (non-empty) line!\n",
    "Repetition of the first word \"test\" on line 9. It occured at the end of the previous (non-empty) line!\n",
    "\n",
    "```"
   ]
  },
  {
   "cell_type": "code",
   "execution_count": 15,
   "metadata": {},
   "outputs": [
    {
     "name": "stdout",
     "output_type": "stream",
     "text": [
      "['Here', 'some', 'text', 'with', 'double', 'double', 'words', 'words', 'It', 'also', 'contains', 'puctuation', '']\n",
      "The word \"double\" at position 5 and 6 is repeated!\n",
      "The word \"words\" at position 7 and 8 is repeated!\n"
     ]
    }
   ],
   "source": [
    "# example to split a string into words taking into account\n",
    "# (removing) punctuation.\n",
    "# For time reasons, we will not treat 'regular expressions' in class\n",
    "# but you should look them up yourself! You should know them from\n",
    "# Linux already.\n",
    "\n",
    "import re # module to handle regular expressions in a Python program\n",
    "\n",
    "s = \"Here some text with double (double!) words words. It also contains puctuation!\"\n",
    "\n",
    "# split s into its words without the punctuation marks; note that\n",
    "# you might end up with empty strings in the word list!\n",
    "words = re.split('\\W+', s.rstrip())\n",
    "\n",
    "print(words)\n",
    "\n",
    "# Defining a for-loop to check for \n",
    "# consecutively repeating words\n",
    "for n in range(0, len(words)):\n",
    "    if words[n] == words[n - 1]:\n",
    "        # n+1 in the print below to get the correct position \n",
    "        print(\"The word \\\"%s\\\" at position\" %words[n], n, \"and\", n + 1, \"is repeated!\" ) "
   ]
  },
  {
   "cell_type": "code",
   "execution_count": 16,
   "metadata": {},
   "outputs": [
    {
     "name": "stdout",
     "output_type": "stream",
     "text": [
      "Repetition in line 1. Word \"often\" at position 6!\n",
      "Repetition in line 2. Word \"here\" at position 6!\n",
      "Repetition of the first word \"words\" on line 5. It occured at the end of the previous (non-empty) line!\n",
      "Repetition of the first word \"test\" on line 9. It occured at the end of the previous (non-empty) line!\n"
     ]
    }
   ],
   "source": [
    "# Your solution here please\n",
    "\n",
    "# importing packages\n",
    "import re\n",
    "\n",
    "# importing the .txt file\n",
    "textfile = open(\"data/double_words.txt\")\n",
    "lines = textfile.readlines()\n",
    "\n",
    "# defining a for-loop to loop over all sentences\n",
    "for i in range(0, len(lines)):\n",
    "    words = re.split('\\W+', lines[i].rstrip()) # extracting words from that line\n",
    "    \n",
    "    # defining another for-loop to check to find repeating words\n",
    "    for n in range(0, len(words)):\n",
    "        if words[n] == words[n - 1] and words[n] != \"\":\n",
    "            print(\"Repetition in line %d.\" %(i + 1), \"Word \\\"%s\\\" at position\" % words[n], \"%d!\" %n)\n",
    "            \n",
    "    # checking the last word from line n-1 and first word from line n\n",
    "    words1 = re.split('\\W+', lines[i-1].rstrip())\n",
    "    if words1[-1] == words[0] and words[0] != \"\":\n",
    "        print(\"Repetition of the first word \\\"%s\\\"\" %words[0], \"on line %d.\" %(i+1), \n",
    "              \"It occured at the end of the previous (non-empty) line!\")\n",
    "    \n",
    "    # lastly checking if the n+1 line has \"\" and if yes, then check the next line\n",
    "    if i + 2 < len(lines) and words2[0] == words[-1] and words1[0] == \"\":\n",
    "        words1 = re.split('\\W+', lines[i+1].rstrip())\n",
    "        words2 = re.split('\\W+', lines[i+2].rstrip())\n",
    "        print(\"Repetition of the first word \\\"%s\\\"\" %words[-1], \"on line %d.\" %(i+3), \n",
    "              \"It occured at the end of the previous (non-empty) line!\")          \n",
    "\n",
    "textfile.close()"
   ]
  },
  {
   "cell_type": "code",
   "execution_count": null,
   "metadata": {},
   "outputs": [],
   "source": []
  }
 ],
 "metadata": {
  "celltoolbar": "Create Assignment",
  "kernelspec": {
   "display_name": "Python 3 (ipykernel)",
   "language": "python",
   "name": "python3"
  },
  "language_info": {
   "codemirror_mode": {
    "name": "ipython",
    "version": 3
   },
   "file_extension": ".py",
   "mimetype": "text/x-python",
   "name": "python",
   "nbconvert_exporter": "python",
   "pygments_lexer": "ipython3",
   "version": "3.9.12"
  }
 },
 "nbformat": 4,
 "nbformat_minor": 4
}
