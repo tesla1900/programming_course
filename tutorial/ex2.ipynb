{
 "cells": [
  {
   "cell_type": "markdown",
   "metadata": {
    "nbgrader": {
     "grade": false,
     "grade_id": "cell-515e01b25bda86a9",
     "locked": true,
     "schema_version": 3,
     "solution": false,
     "task": false
    }
   },
   "source": [
    "# Exercises and Homework for week 2"
   ]
  },
  {
   "cell_type": "markdown",
   "metadata": {
    "nbgrader": {
     "grade": false,
     "grade_id": "cell-14ca577e70096fbf",
     "locked": true,
     "schema_version": 3,
     "solution": false,
     "task": false
    }
   },
   "source": [
    "## physics718: Programming in Physics and Astronomy with C++ or Python (SS 2022)\n",
    "Nina Stiesdal & Thomas Erben"
   ]
  },
  {
   "cell_type": "markdown",
   "metadata": {
    "nbgrader": {
     "grade": false,
     "grade_id": "cell-58e8949e2e41603c",
     "locked": true,
     "schema_version": 3,
     "solution": false,
     "task": false
    }
   },
   "source": [
    "Homework is due on **Wednesday, 27/04/2022, 23:59pm**\n",
    "\n",
    " * You only learn a programming language by actively praticing and using it! We therefore **strongly** advise you to work on the homework problems.\n",
    " * Please discuss the problems with your student peers and with your tutor.\n",
    " * Your code(s) need(s) to be well and appropriately commented!\n",
    " * Submit this notebook and, if necessary, additional files in a `tar`-archive with name `Homework_2_group_XX.tgz` (replace `XX` with your group number) to your tutor.\n",
    "\n",
    "**Topics of this exercise:**\n",
    " * scalar data types in Python *int*, *float* and *bool*\n",
    " * control structures *if* and *while*\n",
    " * floating poing accuracy"
   ]
  },
  {
   "cell_type": "markdown",
   "metadata": {},
   "source": [
    "**Your group number here please:**  Group 05_03"
   ]
  },
  {
   "cell_type": "markdown",
   "metadata": {},
   "source": [
    "# 1. Lecture Review (0 points)"
   ]
  },
  {
   "cell_type": "markdown",
   "metadata": {},
   "source": [
    "If you did the lecture review questions [04_Lecture_Review.ipynb](04_Lecture_Review.ipynb) (strongly recommended!): \n",
    "Please discuss with your tutor and your group any issues/problems you had with them."
   ]
  },
  {
   "cell_type": "markdown",
   "metadata": {
    "tags": []
   },
   "source": [
    "# 2. Machine epsilon (5 points)\n",
    "In class we talked about inaccuracies that occur in a computer when performing operations with floating-point numbers. An important value to quantify floating-point accuracy is the *machine epsilon*. Please have a look at the [Wikipedia article on the machine epsilon](https://en.wikipedia.org/wiki/Machine_epsilon) to learn more about it. \n",
    "\n",
    "The *machine epsilon* is defined as the smallest number $\\epsilon_m$ such that $1.0 + \\epsilon_m > 1.0$. According to the Wikipedia article, the machine epsilon of your programming language can be estimated up to a factor of two with the algorithm:\n",
    "\n",
    "```\n",
    "epsilon_m = 1.0;\n",
    "\n",
    "while (1.0 + 0.5 * epsilon_m) > 1.0:\n",
    "    epsilon_m = 0.5 * epsilon_m\n",
    "\n",
    "```\n",
    "Use this algorithm to determine the *machine epsilon* of the Python-float type. Which float-type is used in Python (see the table of the Wikipedia article)?"
   ]
  },
  {
   "cell_type": "code",
   "execution_count": 2,
   "metadata": {},
   "outputs": [
    {
     "name": "stdout",
     "output_type": "stream",
     "text": [
      "2.220446049250313e-16\n"
     ]
    }
   ],
   "source": [
    "# importing relevant packages \n",
    "import numpy as np\n",
    "import scipy as sp\n",
    "\n",
    "# defining a value for epsilon\n",
    "epsilon_m = 1.0\n",
    "\n",
    "# running a while loop to quantify floating-point accuracy\n",
    "while (1.0 + 0.5 * epsilon_m) > 1.0:\n",
    "    epsilon_m = 0.5 * epsilon_m\n",
    "\n",
    "# printing the final value of epsilon_m\n",
    "print(epsilon_m)\n"
   ]
  },
  {
   "cell_type": "markdown",
   "metadata": {},
   "source": [
    "# 3. Test of natural numbers for the prime property (10 points)"
   ]
  },
  {
   "cell_type": "markdown",
   "metadata": {},
   "source": [
    "In the following, we want to develop a program to test positive integer numbers for the prime property. A positive integer larger than 1 is a prime if it cannot be formed by multiplying two smaller natural numbers. \n",
    "\n",
    "The student Lydia Leibnitz proposes the following algorithm for the task:\n",
    "1. We are given a natural number $n$ that we want to test\n",
    "2. In a loop, we test whether `n % m == 0` for all natural numbers $m$ with $2\\leq m < \\sqrt{n}$\n",
    "3. If the test (2) is `True` for any of the tested $m$, then $n$ is not prime. Otherwise, we have a prime number.\n",
    "\n",
    "Lydia gives the following proof for the correctness of her algorithm:\n",
    "Divisors of $n$ come in pairs and say $n = ab$. Then **exactly one** of the two follwing possibilities can be true:\n",
    "1. $a < \\sqrt{n} \\text{ and } b > \\sqrt{n}$\n",
    "2. $a > \\sqrt{n} \\text{ and } b < \\sqrt{n}$\n",
    "\n",
    "To see this, we assume $a< \\sqrt{n} \\text{ and } b < \\sqrt{n}$. Then follows $n = ab < \\sqrt{n}\\sqrt{n} < n$ which leads to the contradiction $n<n$! Similarily, we conclude that not both, $a$ and $b$ can be larger than $\\sqrt{n}$. It follows that one of the divisors of $n$ must be smaller than $\\sqrt{n}$ and we only need to test $2\\leq m < \\sqrt{n}$ to check whether $n$ is a prime.\n",
    "\n",
    "Your tasks:\n",
    "1. Implement Lydias algorithm to test a given number $n$ for the prime property. Your program should report with a text-message, which number is tested and whether it is a prime or not.\n",
    "2. Test your program with the numbers 8, 105, 177, 51, 5, 47, 199 and 967. Your program should report the last four numbers as primes and the others as non-prime.\n",
    "3. Embed your test in a loop and consider systematically all numbers $2\\leq n \\leq 100$ for the prime property. What do you observe?\n",
    "4. (3.) should show you that your program does not work as expected! Find the underlying algorithmic problem and correct your program! Document within your notebook or script what the problem is!\n",
    "\n",
    "**Hint:** In the past, many students *did not find any problem* with their implemented algorithm. In that case, your first issue is that you did not implement *exactly* the algorithm described above."
   ]
  },
  {
   "cell_type": "code",
   "execution_count": 10,
   "metadata": {
    "tags": []
   },
   "outputs": [
    {
     "name": "stdout",
     "output_type": "stream",
     "text": [
      "8 is not a prime number\n",
      "105 is not a prime number\n",
      "177 is not a prime number\n",
      "51 is not a prime number\n",
      "5 is a prime number\n",
      "47 is a prime number\n",
      "199 is a prime number\n",
      "967 is a prime number\n",
      "\n",
      "\n",
      "2 is a prime number\n",
      "3 is a prime number\n",
      "4 is not a prime number\n",
      "5 is a prime number\n",
      "6 is not a prime number\n",
      "7 is a prime number\n",
      "8 is not a prime number\n",
      "9 is not a prime number\n",
      "10 is not a prime number\n",
      "11 is a prime number\n",
      "12 is not a prime number\n",
      "13 is a prime number\n",
      "14 is not a prime number\n",
      "15 is not a prime number\n",
      "16 is not a prime number\n",
      "17 is a prime number\n",
      "18 is not a prime number\n",
      "19 is a prime number\n",
      "20 is not a prime number\n",
      "21 is not a prime number\n",
      "22 is not a prime number\n",
      "23 is a prime number\n",
      "24 is not a prime number\n",
      "25 is not a prime number\n",
      "26 is not a prime number\n",
      "27 is not a prime number\n",
      "28 is not a prime number\n",
      "29 is a prime number\n",
      "30 is not a prime number\n",
      "31 is a prime number\n",
      "32 is not a prime number\n",
      "33 is not a prime number\n",
      "34 is not a prime number\n",
      "35 is not a prime number\n",
      "36 is not a prime number\n",
      "37 is a prime number\n",
      "38 is not a prime number\n",
      "39 is not a prime number\n",
      "40 is not a prime number\n",
      "41 is a prime number\n",
      "42 is not a prime number\n",
      "43 is a prime number\n",
      "44 is not a prime number\n",
      "45 is not a prime number\n",
      "46 is not a prime number\n",
      "47 is a prime number\n",
      "48 is not a prime number\n",
      "49 is not a prime number\n",
      "50 is not a prime number\n",
      "51 is not a prime number\n",
      "52 is not a prime number\n",
      "53 is a prime number\n",
      "54 is not a prime number\n",
      "55 is not a prime number\n",
      "56 is not a prime number\n",
      "57 is not a prime number\n",
      "58 is not a prime number\n",
      "59 is a prime number\n",
      "60 is not a prime number\n",
      "61 is a prime number\n",
      "62 is not a prime number\n",
      "63 is not a prime number\n",
      "64 is not a prime number\n",
      "65 is not a prime number\n",
      "66 is not a prime number\n",
      "67 is a prime number\n",
      "68 is not a prime number\n",
      "69 is not a prime number\n",
      "70 is not a prime number\n",
      "71 is a prime number\n",
      "72 is not a prime number\n",
      "73 is a prime number\n",
      "74 is not a prime number\n",
      "75 is not a prime number\n",
      "76 is not a prime number\n",
      "77 is not a prime number\n",
      "78 is not a prime number\n",
      "79 is a prime number\n",
      "80 is not a prime number\n",
      "81 is not a prime number\n",
      "82 is not a prime number\n",
      "83 is a prime number\n",
      "84 is not a prime number\n",
      "85 is not a prime number\n",
      "86 is not a prime number\n",
      "87 is not a prime number\n",
      "88 is not a prime number\n",
      "89 is a prime number\n",
      "90 is not a prime number\n",
      "91 is not a prime number\n",
      "92 is not a prime number\n",
      "93 is not a prime number\n",
      "94 is not a prime number\n",
      "95 is not a prime number\n",
      "96 is not a prime number\n",
      "97 is a prime number\n",
      "98 is not a prime number\n",
      "99 is not a prime number\n",
      "100 is not a prime number\n"
     ]
    }
   ],
   "source": [
    " \n",
    "# Function that test if a number is prime\n",
    "def prime(n):\n",
    "    m = 2\n",
    "    is_prime = True\n",
    "    \n",
    "    # test divisibility by all integers between 2 and √n, the original algorithm used a strict inequality which\n",
    "    # lead to square numbers beeing classified as prime\n",
    "    while (m <= np.sqrt(n)):\n",
    "        if (n % m == 0):\n",
    "            is_prime = False\n",
    "            break\n",
    "        else:\n",
    "            m = m + 1\n",
    "    return is_prime\n",
    "\n",
    "# test for specific numbers\n",
    "for n in [8, 105, 177, 51, 5, 47, 199, 967]:\n",
    "    if prime(n)==False:\n",
    "        print(n, 'is not a prime number')\n",
    "    else:\n",
    "        print(n, 'is a prime number')\n",
    "        \n",
    "\n",
    "# test for all numbers between 2 and 100     \n",
    "print(\"\\n\")\n",
    "for n in range(2,101):\n",
    "    if prime(n)==False:\n",
    "        print(n, 'is not a prime number')\n",
    "    else:\n",
    "        print(n, 'is a prime number')"
   ]
  },
  {
   "cell_type": "markdown",
   "metadata": {
    "nbgrader": {
     "grade": false,
     "grade_id": "cell-5c20b7824c889804",
     "locked": true,
     "schema_version": 3,
     "solution": false,
     "task": false
    }
   },
   "source": [
    "# 4. Problems with an integral series (15 points)"
   ]
  },
  {
   "cell_type": "markdown",
   "metadata": {
    "nbgrader": {
     "grade": false,
     "grade_id": "cell-637b4ff9e037754d",
     "locked": true,
     "schema_version": 3,
     "solution": false,
     "task": false
    }
   },
   "source": [
    "Consider the sequence\n",
    "$$\n",
    "I_n=\\int_0^1 \\frac{x^{n}}{x+10}\\,\\mathrm{d}x; \\qquad n=1,2,\\dots\n",
    "$$\n",
    "We observe that\n",
    "\\begin{equation}\n",
    "I_n + 10I_{n-1} = \\int_0^1 \\frac{x^{n}+10x^{n-1}}{x+10}\\,\\mathrm{d}x =\n",
    "\\int_0^1 x^{n-1}\\,\\mathrm{d}x = \\frac 1n \\label{eq1}\\tag{1}\n",
    "\\end{equation}\n",
    "resulting in\n",
    "\\begin{equation}\n",
    "I_n = \\frac 1n - 10I_{n-1} \\text{ and } \n",
    "I_0 = \\int_0^1 \\frac{1}{x+10}\\,\\mathrm{d}x = \\ln(11/10)\\approx 0.09531. \\label{eq2}\\tag{2}\n",
    "\\end{equation}\n",
    "One can show that the sequence converges to zero: $\\lim_{n\\to\\infty}I_n=0$. \n",
    "\n",
    "We want to numerically estimate $I_{20}$ by using eqs. \\ref{eq1} and \\ref{eq2}. We can caluclulate and print the first 20 elements of the series in a `while`-loop. \n",
    "\n",
    "There is a second, independent estimate of $I_{20}$ if we revert the first relation from eq. \\ref{eq2}:\n",
    "\\begin{equation}\n",
    "  I_{n-1} = \\frac 1{10}\\left(\\frac 1n -I_{n}\\right) \\text{ with } I_{50} = 0.\\label{eq3}\\tag{3}\n",
    "\\end{equation}\n",
    "This relation allows us to calculate the elements $I_{50}, I_{49}, \\dots, I_{20}$.\n",
    "\n",
    "**Your tasks:**\n",
    "\n",
    "Perform the two experiments with the forward and the reverse relation in the cells below and argue which one of the results you trust. Please explain your observations.\n",
    "\n",
    "**Hints:** \n",
    " * Assume for the first case (forward relation) that $I_0$ is represented internally as a float number with an error, i.e. $I_0 = \\ln(11/10) + \\epsilon$, where $\\epsilon$ is the error. We know that $\\epsilon\\approx 10^{-18}$ for `Python` float numbers. What happens with $\\epsilon$ when you calculate new elements of the series? \n",
    " * for the logarithm you can use the numpy module with ```import numpy``` and use the defined function ```numpy.log(x)``` to obtain $\\ln(x)$!"
   ]
  },
  {
   "cell_type": "code",
   "execution_count": 57,
   "metadata": {},
   "outputs": [
    {
     "name": "stdout",
     "output_type": "stream",
     "text": [
      "I_0 = 0.09531017980432493\n",
      "I_1 = 0.04689820195675065\n",
      "I_2 = 0.031017980432493486\n",
      "I_3 = 0.023153529008398455\n",
      "I_4 = 0.018464709916015454\n",
      "I_5 = 0.015352900839845474\n",
      "I_6 = 0.013137658268211921\n",
      "I_7 = 0.011480560175023635\n",
      "I_8 = 0.010194398249763648\n",
      "I_9 = 0.009167128613474629\n",
      "I_10 = 0.008328713865253717\n",
      "I_11 = 0.007621952256553738\n",
      "I_12 = 0.00711381076779595\n",
      "I_13 = 0.005784969245117427\n",
      "I_14 = 0.013578878977397152\n",
      "I_15 = -0.06912212310730485\n",
      "I_16 = 0.7537212310730486\n",
      "I_17 = -7.478388781318721\n",
      "I_18 = 74.83944336874276\n",
      "I_19 = -748.3418021084802\n",
      "I_20 = 7483.468021084803\n",
      "\n",
      "I_50 = 0\n",
      "I_49 = 0.002\n",
      "I_48 = 0.0018408163265306123\n",
      "I_47 = 0.0018992517006802719\n",
      "I_46 = 0.001937734404400058\n",
      "I_45 = 0.001980139603038255\n",
      "I_44 = 0.002024208261918397\n",
      "I_43 = 0.0020703064465354333\n",
      "I_42 = 0.0021185507506952935\n",
      "I_41 = 0.002169097305882851\n",
      "I_40 = 0.0022221146596556173\n",
      "I_39 = 0.0022777885340344384\n",
      "I_38 = 0.00233632371069912\n",
      "I_37 = 0.002397946576298509\n",
      "I_36 = 0.002462908045072852\n",
      "I_35 = 0.0025314869732704923\n",
      "I_34 = 0.002603994159815808\n",
      "I_33 = 0.0026807770546066543\n",
      "I_32 = 0.002762225324842365\n",
      "I_31 = 0.0028487774675157633\n",
      "I_30 = 0.002940928704861327\n",
      "I_29 = 0.0030392404628472006\n",
      "I_28 = 0.003144351815784245\n",
      "I_27 = 0.003256993389850147\n",
      "I_26 = 0.003378004364718689\n",
      "I_25 = 0.0035083534096819772\n",
      "I_24 = 0.0036491646590318025\n",
      "I_23 = 0.003801750200763486\n",
      "I_22 = 0.003967651066880172\n",
      "I_21 = 0.004148689438766529\n",
      "I_20 = 0.004347035818028109\n"
     ]
    }
   ],
   "source": [
    "import numpy as np\n",
    "\n",
    "# one step of the foward iteration. Inputs: a = I_(n-1) and iteration step n. Output: I_n\n",
    "def iterateForward(a,n):\n",
    "    \n",
    "    # if the iteration step is 0 we return the seed I_0 = ln(11/10)\n",
    "    if(n == 0): return np.log(11/10)\n",
    "    \n",
    "    # compute the succeeding element\n",
    "    a = (1/n - 10*a)\n",
    "    return a\n",
    "\n",
    "# one step of the backward iteration. Inputs: a = I_(n+1) and iteration step n. Output: I_n\n",
    "def iterateBackwards(a,n):\n",
    "    if(n == -1): print('err: div0'); return 0\n",
    "    \n",
    "    # if the iteration step is 50 we return the seed I_50 = 0\n",
    "    if(n == 50): return 0\n",
    "    \n",
    "    # compute the preceding element\n",
    "    a = (1/(n + 1) - a)/10\n",
    "    return a\n",
    "\n",
    "\n",
    "I = 0\n",
    "# loop the forward iteration from n = 0 till 20\n",
    "for n in range(0,21):\n",
    "    I = iterateForward(I,n)\n",
    "    print('I_%d ='%n, I)\n",
    "print('')\n",
    "\n",
    "# loop the backward iteration from n = 50 till 20\n",
    "for n in range(50,19,-1):\n",
    "    I = iterateBackwards(I,n)\n",
    "    print('I_%d'%n,'=',I)"
   ]
  },
  {
   "cell_type": "markdown",
   "metadata": {},
   "source": [
    "In the forward iteration the relative error $\\varepsilon_n$ increases with each iteration:\n",
    "\n",
    "$$ \\tilde{I}_0 = I_0 (1+\\varepsilon_0)=I_0(1+ \\frac{\\epsilon}{I_0}) = \\text{ln}(11/10) + \\epsilon $$\n",
    "$$ \\tilde{I}_{n} = \\frac 1n - 10 \\tilde{I}_{n-1}=I_{n}(1 + \\varepsilon_{n})\\text{ ,}\\quad I_{n}=\\frac 1n - 10 I_{n-1} \\implies \\tilde{I}_{n}\n",
    "= \\frac 1n - 10 I_{n-1}(1 + \\varepsilon_{n-1})= I_n(1 - 10\\varepsilon_{n-1} \\frac{I_{n-1}}{I_n}). $$\n",
    "\n",
    "From which follows $$\\varepsilon_n= (-10)^n\\frac{\\epsilon}{I_n}.$$\n",
    "Then $n=15$ is the first time that $\\varepsilon_n < -1 \\iff (-10)^{15}\\epsilon < -I_{15} $, so $\\tilde{I}_{15}<0$.\n",
    "\n",
    "In the backwards iteration the starting error of $I_{50}$ decreases by a factor of ten every iteration step, so the \n",
    "result we should trust is the one of the backwards iteration!"
   ]
  },
  {
   "cell_type": "markdown",
   "metadata": {
    "tags": []
   },
   "source": [
    "## 5. Chicken McNuggets (15 points)\n",
    "Mc Donalds sells its Chicken McNuggets in packages of 6, 9 and 20 pieces. Write a ```python``` program which tests for a given number `N` whether `N` nuggets can be bought or not. Your program should print *all* possible package combinations in which the `N` nuggets can be obtained (e.g. 60 nuggets can be bought with 3 packages of 20 pieces, 10 packages of 6 pieces and three more combinations). Print a corresponding message if the `N` nuggets cannot be bought! \n",
    "\n",
    "**Hints:**\n",
    "- This is a *brute force* problem. It means that you need to find the solutions by trying *all possibilities*. One possible approach is as follows: Write three nested `while` loops iterating over the variables `m`, `n` and `o`. The variables represent the number of packages with corresponding pieces. `m` stands for the number of packages with 6 nuggets and so on. Within the innermost loop, you can check with an `if`-statement such as\n",
    "```\n",
    "if (6 * m + 9 * n + 20 * o) == N:\n",
    "    print('possible solution found ....')\n",
    "```\n",
    "whether your current combination of `(m, n, o)` is a solution to the problem. You now only need to find iteration limits for `m`, `n` and `o` to solve the task. \n",
    "\n",
    "- For `N=60`, you should find the following solutions for `(m * 6, n * 9, o * 20)`: `(0, 0, 3)`, `(1, 6, 0)`, `(4, 4, 0)`, `(7, 2, 0)`, `(10, 0, 0)`."
   ]
  },
  {
   "cell_type": "code",
   "execution_count": 88,
   "metadata": {},
   "outputs": [
    {
     "name": "stdout",
     "output_type": "stream",
     "text": [
      "43: no solution\n",
      "number of solutions for 100000: 4633149\n"
     ]
    }
   ],
   "source": [
    "import math \n",
    "import numpy as np\n",
    "\n",
    "# function which prints all possible combinations of n = 6*n6 + 9*n9 + 20*n20 for n,n6,n9,n20 ∈ ℕ\n",
    "# Inputs: n, printcomb. Output: if printcomb = True prints all suitable (n6,n9,n20), \n",
    "#                               if printcomb = False only prints the number of possible combinations\n",
    "def comb(n, printcomb):\n",
    "    \n",
    "# declare variables:\n",
    "    \n",
    "    # the remainder of n mod 6\n",
    "    r = n % 6\n",
    "    \n",
    "    # the factors of 6 resp. 9, 20\n",
    "    n6 = 0\n",
    "    n9 = 0 \n",
    "    n20 = 0\n",
    "    \n",
    "    # the minimal factor of 9 or 20 to get to the remainder r\n",
    "    a9 = 0\n",
    "    a20 = 0\n",
    "    \n",
    "    # tracks if there is a solution\n",
    "    hasSolution = True\n",
    "    \n",
    "    # a counter for the number of solutions\n",
    "    counter = 0\n",
    "    \n",
    "    \n",
    "    # set a9 and a20 to the smallest solution with the corresponding remainder \n",
    "    # if n is smaller than the smallest solution with that remainder set hasSolution to False\n",
    "    if (r == 0): \n",
    "        a9 = 0\n",
    "        a20 = 0\n",
    "    elif ((r == 1) & (n > 48)):\n",
    "        a9 = 1 \n",
    "        a20 = 2\n",
    "    elif ((r == 2) & (n > 19)):\n",
    "        a9 = 0\n",
    "        a20 = 1\n",
    "    elif ((r == 3) & (n > 8)):\n",
    "        a9 = 1\n",
    "        a20 = 0\n",
    "    elif ((r == 4) & (n > 39)):\n",
    "        a9 = 0\n",
    "        a20 = 2\n",
    "    elif ((r == 5) & (n > 28)):\n",
    "        a9 = 1 \n",
    "        a20 = 1\n",
    "    else: hasSolution = False\n",
    "        \n",
    "    # fill up the remaining summand which has a remainder of 0 mod 6 with a factor of 6 \n",
    "    # i.e. set n6 such that n = 6*n6 + 9*a9 + 20*a20, \n",
    "    n6 = int((n - 9*n9 - 20*n20) / 6)\n",
    "    \n",
    "        \n",
    "    if(hasSolution):\n",
    "        \n",
    "        if(printcomb): print(n,'= 6*n6 + 9*n9 + 20*n20 for (n6, n9, n20) = ')\n",
    "            \n",
    "        # distribute the factor of six onto nine and 20 in all possible ways: \n",
    "        # you can trade in 3*6 for 2*9 and 10*6 for 3*20\n",
    "        bound_i =  math.floor(n6 / 10)\n",
    "        for i in range(0, bound_i + 1):\n",
    "            bound_j = math.floor(n6 / 3)\n",
    "            m6 = n6\n",
    "            n9 = 0\n",
    "            for j in range(0, bound_j + 1):\n",
    "                if(printcomb): print('(%d, %d, %d)'%(m6, n9 + a9, n20 + a20))\n",
    "                m6 = m6 - 3\n",
    "                n9 = n9 + 2\n",
    "                counter = counter + 1\n",
    "            \n",
    "            n6 = n6 - 10\n",
    "            n20 = n20 + 3\n",
    "            \n",
    "        if(not printcomb): print('number of solutions for %d:' %n, counter)\n",
    "            \n",
    "    else: print('%d: no solution'%n)\n",
    "    \n",
    "comb(43,1)    \n",
    "\n",
    "comb(100000,0)\n",
    "    "
   ]
  },
  {
   "cell_type": "code",
   "execution_count": null,
   "metadata": {},
   "outputs": [],
   "source": []
  },
  {
   "cell_type": "code",
   "execution_count": null,
   "metadata": {},
   "outputs": [],
   "source": []
  }
 ],
 "metadata": {
  "celltoolbar": "Create Assignment",
  "kernelspec": {
   "display_name": "Python 3 (ipykernel)",
   "language": "python",
   "name": "python3"
  },
  "language_info": {
   "codemirror_mode": {
    "name": "ipython",
    "version": 3
   },
   "file_extension": ".py",
   "mimetype": "text/x-python",
   "name": "python",
   "nbconvert_exporter": "python",
   "pygments_lexer": "ipython3",
   "version": "3.9.7"
  }
 },
 "nbformat": 4,
 "nbformat_minor": 4
}
