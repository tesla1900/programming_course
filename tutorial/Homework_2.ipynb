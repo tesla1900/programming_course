{
 "cells": [
  {
   "cell_type": "markdown",
   "id": "97eae004",
   "metadata": {},
   "source": [
    "# Homework sheet 2\n",
    "## Homework group: 05_03 "
   ]
  },
  {
   "cell_type": "markdown",
   "id": "0abc5c5a",
   "metadata": {},
   "source": [
    "# 2. Machine epsilon (5 points)\n",
    "In class we talked about inaccuracies that occur in a computer when performing operations with floating-point numbers. An important value to quantify floating-point accuracy is the *machine epsilon*. Please have a look at the [Wikipedia article on the machine epsilon](https://en.wikipedia.org/wiki/Machine_epsilon) to learn more about it. \n",
    "\n",
    "The *machine epsilon* is defined as the smallest number $\\epsilon_m$ such that $1.0 + \\epsilon_m > 1.0$. According to the Wikipedia article, the machine epsilon of your programming language can be estimated up to a factor of two with the algorithm:\n",
    "\n",
    "```\n",
    "epsilon_m = 1.0;\n",
    "\n",
    "while (1.0 + 0.5 * epsilon_m) > 1.0:\n",
    "    epsilon_m = 0.5 * epsilon_m\n",
    "\n",
    "```\n",
    "Use this algorithm to determine the *machine epsilon* of the Python-float type. Which float-type is used in Python (see the table of the Wikipedia article)?"
   ]
  },
  {
   "cell_type": "code",
   "execution_count": 4,
   "id": "8af9a61f",
   "metadata": {},
   "outputs": [
    {
     "name": "stdout",
     "output_type": "stream",
     "text": [
      "2.220446049250313e-16\n"
     ]
    }
   ],
   "source": [
    "# importing relevant packages \n",
    "import numpy as np\n",
    "import scipy as sp\n",
    "\n",
    "# defining a value for epsilon\n",
    "epsilon_m = 1.0\n",
    "\n",
    "# running a while loop to quantify floating-point accuracy\n",
    "while (1.0 + 0.5 * epsilon_m) > 1.0:\n",
    "    epsilon_m = 0.5 * epsilon_m\n",
    "\n",
    "# printing the final value of epsilon_m\n",
    "print(epsilon_m)"
   ]
  },
  {
   "cell_type": "markdown",
   "id": "2a57e2ad",
   "metadata": {},
   "source": [
    "# 3. Test of natural numbers for the prime property (10 points)\n",
    "In the following, we want to develop a program to test positive integer numbers for the prime property. A positive integer larger than 1 is a prime if it cannot be formed by multiplying two smaller natural numbers. \n",
    "\n",
    "The student Lydia Leibnitz proposes the following algorithm for the task:\n",
    "1. We are given a natural number $n$ that we want to test\n",
    "2. In a loop, we test whether `n % m == 0` for all natural numbers $m$ with $2\\leq m < \\sqrt{n}$\n",
    "3. If the test (2) is `True` for any of the tested $m$, then $n$ is not prime. Otherwise, we have a prime number.\n",
    "\n",
    "Lydia gives the following proof for the correctness of her algorithm:\n",
    "Divisors of $n$ come in pairs and say $n = ab$. Then **exactly one** of the two follwing possibilities can be true:\n",
    "1. $a < \\sqrt{n} \\text{ and } b > \\sqrt{n}$\n",
    "2. $a > \\sqrt{n} \\text{ and } b < \\sqrt{n}$\n",
    "\n",
    "To see this, we assume $a< \\sqrt{n} \\text{ and } b < \\sqrt{n}$. Then follows $n = ab < \\sqrt{n}\\sqrt{n} < n$ which leads to the contradiction $n<n$! Similarily, we conclude that not both, $a$ and $b$ can be larger than $\\sqrt{n}$. It follows that one of the divisors of $n$ must be smaller than $\\sqrt{n}$ and we only need to test $2\\leq m < \\sqrt{n}$ to check whether $n$ is a prime.\n",
    "\n",
    "Your tasks:\n",
    "1. Implement Lydias algorithm to test a given number $n$ for the prime property. Your program should report with a text-message, which number is tested and whether it is a prime or not.\n",
    "2. Test your program with the numbers 8, 105, 177, 51, 5, 47, 199 and 967. Your program should report the last four numbers as primes and the others as non-prime.\n",
    "3. Embed your test in a loop and consider systematically all numbers $2\\leq n \\leq 100$ for the prime property. What do you observe?\n",
    "4. (3.) should show you that your program does not work as expected! Find the underlying algorithmic problem and correct your program! Document within your notebook or script what the problem is!\n",
    "\n",
    "**Hint:** In the past, many students *did not find any problem* with their implemented algorithm. In that case, your first issue is that you did not implement *exactly* the algorithm described above."
   ]
  },
  {
   "cell_type": "code",
   "execution_count": null,
   "id": "f470dfc6",
   "metadata": {},
   "outputs": [],
   "source": [
    "def natural(n):\n",
    "    m = 2\n",
    "    is_prime = True\n",
    "    while (m < np.sqrt(n)):\n",
    "        if (n % m == 0):\n",
    "            is_prime = False\n",
    "            print(n)\n",
    "            break\n",
    "        else:\n",
    "            m = m + 1\n",
    "            print(m)\n",
    "    return is_prime\n",
    "\n",
    "for n in [8, 105, 177, 51, 5, 47, 199, 967]:\n",
    "    if natural(n)==False:\n",
    "        print(n, 'is not a prime number')\n",
    "    else:\n",
    "        print(n, 'is a prime number')"
   ]
  },
  {
   "cell_type": "code",
   "execution_count": null,
   "id": "00981886",
   "metadata": {},
   "outputs": [],
   "source": []
  }
 ],
 "metadata": {
  "kernelspec": {
   "display_name": "Python 3 (ipykernel)",
   "language": "python",
   "name": "python3"
  },
  "language_info": {
   "codemirror_mode": {
    "name": "ipython",
    "version": 3
   },
   "file_extension": ".py",
   "mimetype": "text/x-python",
   "name": "python",
   "nbconvert_exporter": "python",
   "pygments_lexer": "ipython3",
   "version": "3.9.7"
  }
 },
 "nbformat": 4,
 "nbformat_minor": 5
}
