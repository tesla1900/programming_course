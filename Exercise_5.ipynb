{
 "cells": [
  {
   "cell_type": "code",
   "execution_count": 73,
   "id": "3f7a36fc",
   "metadata": {},
   "outputs": [
    {
     "name": "stdout",
     "output_type": "stream",
     "text": [
      "['This', 'is', 'an', 'attempt', 'attempt', 'to', 'find', 'out', 'repeated', 'repeated', 'words', 'in', 'in', 'a', 'string']\n",
      " 'attempt' is repeated  2  times \n",
      " 'attempt' is repeated  2  times \n",
      " 'repeated' is repeated  2  times \n",
      " 'repeated' is repeated  2  times \n",
      " 'in' is repeated  2  times \n",
      " 'in' is repeated  2  times \n"
     ]
    }
   ],
   "source": [
    "s = \"this this this \"\n",
    "s_list = string.split()\n",
    "print(s_list)\n",
    "for word in s_list:\n",
    "    repeats = s_list.count(word)\n",
    "    if repeats > 1:\n",
    "        print(\" \\'%s\\' is repeated  %d  times \" %(word , repeats))"
   ]
  },
  {
   "cell_type": "code",
   "execution_count": 104,
   "id": "ec57c3de",
   "metadata": {},
   "outputs": [
    {
     "name": "stdout",
     "output_type": "stream",
     "text": [
      "['this', 'is', 'an', 'example', 'of', 'of', 'repeating', 'words']\n",
      " 'this' is not repeated\n",
      " 'is' is not repeated\n",
      " 'an' is not repeated\n",
      " 'example' is not repeated\n",
      " 'of' is repeated  2  times \n",
      " 'of' is repeated  2  times \n",
      " 'repeating' is not repeated\n",
      " 'words' is not repeated\n"
     ]
    }
   ],
   "source": [
    "s = \"this  is an example of of repeating words \"\n",
    "s_list = s.split()\n",
    "print(s_list)\n",
    "for word in s_list:\n",
    "    repeats = s_list.count(word)\n",
    "    if repeats > 1:\n",
    "        print(\" \\'%s\\' is repeated  %d  times \" %(word , repeats))\n",
    "    else:\n",
    "        print(\" \\'%s' is not repeated\" %(word))"
   ]
  }
 ],
 "metadata": {
  "kernelspec": {
   "display_name": "Python 3",
   "language": "python",
   "name": "python3"
  },
  "language_info": {
   "codemirror_mode": {
    "name": "ipython",
    "version": 3
   },
   "file_extension": ".py",
   "mimetype": "text/x-python",
   "name": "python",
   "nbconvert_exporter": "python",
   "pygments_lexer": "ipython3",
   "version": "3.8.5"
  }
 },
 "nbformat": 4,
 "nbformat_minor": 5
}
