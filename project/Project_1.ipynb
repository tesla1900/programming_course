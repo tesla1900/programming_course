{
 "cells": [
  {
   "cell_type": "markdown",
   "id": "96e76382-9d45-4696-ae61-0e486ed37bd1",
   "metadata": {},
   "source": [
    "# Investing in the stock market (the eighth world wonder)\n",
    "\n",
    "**Project deadline:** This project is due for submission on Wednesday, 11.05.2022, 23:59. Please check carefully the *About the Projects* section below for further details."
   ]
  },
  {
   "cell_type": "markdown",
   "id": "14bdef2b-a4b8-4e5a-89b4-b79201bc8b8b",
   "metadata": {},
   "source": [
    "**Important:** You have the choice to work either on this project or on another one from Nina. We strongly advise you to read through both project notebooks completely before you take a decision."
   ]
  },
  {
   "cell_type": "markdown",
   "id": "daf9528d-1240-4083-9ef4-a772c628951d",
   "metadata": {},
   "source": [
    "## About the Projects\n",
    "- You will get one project approximately every other week.\n",
    "- Besides the homework-assignmentts, you need to solve the projects in order to pass the course. Your final course mark consists of the mean of your project marks. We aim to hand-out six projects during the term and we do not consider the worst project mark for your final course mark. Projects that you do not hand in are counted with a mark of 4.\n",
    "- The projects needs to be submitted by uploading a modified version of this notebook to [Projects/Project 1](https://ecampus.uni-bonn.de/goto_ecampus_exc_2645968.html) on eCampus. Please only upload this notebook and no other files. You also do not need to change its filename before your upload. Your project must be on eCampus by Wednesday, 11.05.2022, 23:59. **No late uploads can be accepted!**\n",
    "- **In contrast to the homework exercises, each student must hand in an own solution for the projects! Of course you can and should discuss problems with each other! However, you need to be able to explain your solution in detail to your tutor and/or the lecturers! We might ask you for an interview about your project if the solution is (close to) identical to another students submission.**\n",
    "\n",
    "**Note:** The tutors, Nina and I are very happy to help you out with difficulties you might have with the project tasks! You can ask questions any time but please do so well in advance of the deadlines!"
   ]
  },
  {
   "cell_type": "markdown",
   "id": "54b15d6c-cebd-4bba-8540-b8954efcf1db",
   "metadata": {},
   "source": [
    "### Your Name here please: Paarth Thakkar"
   ]
  },
  {
   "cell_type": "markdown",
   "id": "3416316b-939f-4f7e-8fa1-4389c3bbab2e",
   "metadata": {},
   "source": [
    "## Introduction\n",
    "\n",
    "In this project, we want to look at a long-term strategy to invest money in the stock market.\n",
    "\n",
    "On the stock market, we can invest into individual companies such as Apple, Sony, Deutsche Telekom, McDonalds etc. While investments in individual companies can result in very high profits if you pick the right ones, they also carry the risk of significant or even total losses - perhaps some of you remember WireCard (a once very famous German tech-company) which went bankrupt within a few days during 2020 (featured in this very well done [video](https://www.youtube.com/watch?v=ivACzzW5wyA)). To minimise risks, a stock market portfolio should be broadly diversified over countries and indistrial sectors. An attractive option to realise this for private investors are so-called index funds. The so-called `MSCI-World` index allows you to invest with little money in $\\approx 1500$ large companies from 23 countries of the developed world. \n",
    "\n",
    "If we believe that the world economy steadily grows (it better does!), an investment in such an index has an expected return larger than 0 **in the long term**! We want to investigate in this notebook what time horizon an investment should have to not loose money."
   ]
  },
  {
   "cell_type": "markdown",
   "id": "99524db8-0d77-4b5b-9cea-b43fbe040aae",
   "metadata": {},
   "source": [
    "The figure below shows the chart-development of the MSCI-index from December 1987 to October 2021.\n",
    "\n",
    "<img src=\"figs/MSCI_chart.png\" width=\"400\" height=\"200\" />\n",
    "\n",
    "The value of the index is in arbitrary units (normalised to 1 for the first data point). The absolute values (e.g. in Dollars or Euros) are irrelevant for the entire project. "
   ]
  },
  {
   "cell_type": "markdown",
   "id": "970ff2c0-8e0f-4084-8eac-5096b154f8d2",
   "metadata": {},
   "source": [
    "## 0. Chart developement of the MSCI-World Index"
   ]
  },
  {
   "cell_type": "code",
   "execution_count": 1,
   "id": "181d2842-246d-4ec0-84df-566d181a50c8",
   "metadata": {
    "tags": []
   },
   "outputs": [],
   "source": [
    "%matplotlib inline\n",
    "\n",
    "# noetige Imports\n",
    "import numpy as np\n",
    "import numpy.random as nr\n",
    "import matplotlib.pyplot as plt"
   ]
  },
  {
   "cell_type": "markdown",
   "id": "eaa65d76-3251-4ddb-90d9-4d0ead7c6ae3",
   "metadata": {},
   "source": [
    "The file [MSCI.txt](MSCI.txt) contains data for the MSCI-World index from December 1978 to October 2021:"
   ]
  },
  {
   "cell_type": "code",
   "execution_count": 2,
   "id": "68a246f3-f85e-49a8-ab95-197dedd961db",
   "metadata": {},
   "outputs": [
    {
     "name": "stdout",
     "output_type": "stream",
     "text": [
      "# date  relative value\r",
      "\r\n",
      "1978.92 1.00\r",
      "\r\n",
      "1979.08 1.04\r",
      "\r\n",
      "1979.15 1.03\r",
      "\r\n",
      "1979.23 1.07\r",
      "\r\n",
      "1979.31 1.08\r",
      "\r\n",
      "1979.38 1.08\r",
      "\r\n",
      "1979.46 1.10\r",
      "\r\n",
      "1979.54 1.07\r",
      "\r\n",
      "1979.62 1.11\r",
      "\r\n"
     ]
    }
   ],
   "source": [
    "!head data/MSCI.txt"
   ]
  },
  {
   "cell_type": "markdown",
   "id": "bce105a9-d0a2-4c5a-8a79-4e7e50332538",
   "metadata": {},
   "source": [
    "The two columns contain date - one data-point for each month - and mean value of the index during that month. The dates are represented with numbers such as 1979.XX. The exact meaning of the decimal place (XX) does not matter for the tasks ahead.\n",
    "\n",
    "In the following cell, I show you how to read the file, decompose its contents into two `numpy`-arrays `dates` and `values` and reproduce the figure above. We did not yet cover this in class."
   ]
  },
  {
   "cell_type": "code",
   "execution_count": 313,
   "id": "a5b5a389-9259-493b-8a71-016f265ba0f6",
   "metadata": {
    "tags": []
   },
   "outputs": [
    {
     "data": {
      "text/plain": [
       "Text(0, 0.5, 'MSCI-World index [dimensionless units]')"
      ]
     },
     "execution_count": 313,
     "metadata": {},
     "output_type": "execute_result"
    },
    {
     "data": {
      "image/png": "[encoded data removed]",
      "text/plain": [
       "<Figure size 432x288 with 1 Axes>"
      ]
     },
     "metadata": {
      "needs_background": "light"
     },
     "output_type": "display_data"
    }
   ],
   "source": [
    "# read data into a 'two-dimensional'\n",
    "# numpy-array 'data' and split it up in\n",
    "# two one-dimensional arrays:\n",
    "data = np.loadtxt('data/MSCI.txt')\n",
    "dates = data[:,0]\n",
    "values = data[:,1]\n",
    "\n",
    "plt.plot(dates, values)\n",
    "plt.xlabel('year')\n",
    "plt.ylabel('MSCI-World index [dimensionless units]')"
   ]
  },
  {
   "cell_type": "markdown",
   "id": "61ec2f2f-2906-4a86-bdb1-997eda222d5d",
   "metadata": {},
   "source": [
    "## 1. Wonderful returns"
   ]
  },
  {
   "cell_type": "markdown",
   "id": "655e9ef3-671b-4dd6-ac21-d3f29f6cbf99",
   "metadata": {},
   "source": [
    "An investment in the `MSCI-World` is often advertised with phrases as *The MSCI-World yielded a mean yearly interest of about 11% since 1979!* \n",
    "\n",
    "Let us first verify this statement.\n",
    "\n",
    "Investing an amount $x$ with a fixed-interest of $z$ (in percent), your money has increased after $n$ years to an amount $y$ of\n",
    "\n",
    "$$\n",
    "y = x(1+z)^{n}\n",
    "\\label{eq:interest} \\tag{1}\n",
    "$$\n",
    "\n",
    "(compound interest formula). \n",
    "\n",
    "Assume in the following that you invest the value of the MSCI-index to a given time and, at the end of the investment, you obtain the index value at the corresponding date. Hence, the value of your investment always corresponds to the value of the index. If you had invested a different amount of money, you only would need to multiply that amount with the corresponding values of the index. This however is irrelevant for the task because we only are interested in interest rates.\n",
    "\n",
    "**Example:**\n",
    "Investing in Dec. 1978, we do this with one unit of money (first data point). In October 2021 (last data point), the investment returns 94.78 units.\n",
    "\n",
    "Given those values, calculate with eq. (\\ref{eq:interest}) the annual percentage rate of an investment into the MSCI-World from Dec. 1978 to Oct. 2021.\n",
    "\n",
    "**Hint:** For this **very long-term investment**, the advertisement is correct and you should obtain 11%."
   ]
  },
  {
   "cell_type": "code",
   "execution_count": 5,
   "id": "43ababc0-e43a-4b2c-b5ef-e6190d2960bc",
   "metadata": {},
   "outputs": [
    {
     "name": "stdout",
     "output_type": "stream",
     "text": [
      "The time duration is 42.84999999999991 years\n",
      "The principle amount is 1.0\n",
      "The final amount is 94.78\n",
      "The rate of interest for the given duration is 11.20673195668418 %\n"
     ]
    }
   ],
   "source": [
    "# Your solution here please\n",
    "\n",
    "# defining a function to calculate interest rate\n",
    "def compound(y, x, n):\n",
    "    return ((y / x) ** (1 / n) - 1) * 100\n",
    "\n",
    "# defining all the variables to pass them in the function \n",
    "t = dates[-1] - dates[0]\n",
    "print(\"The time duration is\", t, \"years\")\n",
    "\n",
    "ini = values[0]\n",
    "print(\"The principle amount is\", ini)\n",
    "\n",
    "fin = values[-1]\n",
    "print(\"The final amount is\", fin)\n",
    "\n",
    "# Printing the final rate of interest\n",
    "print(\"The rate of interest for the given duration is\", compound(fin, ini, t), '%')"
   ]
  },
  {
   "cell_type": "markdown",
   "id": "5e83ab1e-0449-42b0-9e79-955a078c44f1",
   "metadata": {},
   "source": [
    "In charts with an exponential growth, one often gets the misleading impression that recent years were very special with extreme growth rates. Please plot the MSCI index together with eq. (1) and the interest rate from the last cell with a logarithmic scale to demonstarte that nothing special happened in recent years (in contrast to the first years of the period).\n",
    "\n",
    "**Hint:** To obtain a logarithmic y-axis in a plot, you can use the command `plt.yscale('log')`."
   ]
  },
  {
   "cell_type": "code",
   "execution_count": 6,
   "id": "6721e77a-b587-4800-9ac2-e8e3b196a7f1",
   "metadata": {},
   "outputs": [
    {
     "data": {
      "image/png": "[encoded data removed]",
      "text/plain": [
       "<Figure size 432x288 with 1 Axes>"
      ]
     },
     "metadata": {
      "needs_background": "light"
     },
     "output_type": "display_data"
    }
   ],
   "source": [
    "# Your solution here please\n",
    "\n",
    "def amount(x, z):\n",
    "    return x * (1 + z) \n",
    "\n",
    "\n",
    "interest = compound(fin, ini, t)\n",
    "plt.plot(dates, values)\n",
    "# dn = dates[1:] - dates[:-1]\n",
    "# plt.plot(dates, amount(values, interest))\n",
    "plt.yscale('log')\n",
    "plt.grid()"
   ]
  },
  {
   "cell_type": "markdown",
   "id": "64618850-3a59-48c2-8579-0fa53f2b40d6",
   "metadata": {},
   "source": [
    "Please write now a function `interest` with the following signature:\n",
    "\n",
    "```python\n",
    "def interest(x, y, n):\n",
    "    \"\"\"\n",
    "    The functions input are the money\n",
    "    to invest, the amount of money at the\n",
    "    end of the investment and the investment\n",
    "    time in years. The functions result (return\n",
    "    value) is the fixed yearly interest rate\n",
    "    according to eq. (1)\n",
    "\n",
    "    The function works for scalar input as well\n",
    "    as for numpy-arrays- In the latter case, a\n",
    "    corresponding array with interest rates is returned.\n",
    "    \"\"\"\n",
    "```"
   ]
  },
  {
   "cell_type": "code",
   "execution_count": 269,
   "id": "5dce126f-8b75-4397-af73-6f700e8fb970",
   "metadata": {},
   "outputs": [
    {
     "name": "stdout",
     "output_type": "stream",
     "text": [
      "16.59144011798317\n"
     ]
    }
   ],
   "source": [
    "# Your solution here please\n",
    "\n",
    "def interest(x, y, n):\n",
    "#     if y == x: return 0\n",
    "    return ((y / x) ** (1 / n) - 1) * 100\n",
    "\n",
    "x = 100\n",
    "y = 10000\n",
    "n = 30\n",
    "print(interest(x, y, n))"
   ]
  },
  {
   "cell_type": "code",
   "execution_count": 270,
   "id": "1d113a33-b73c-412b-9ff4-5d9d899ca75f",
   "metadata": {},
   "outputs": [
    {
     "data": {
      "text/plain": [
       "11.20673195668418"
      ]
     },
     "execution_count": 270,
     "metadata": {},
     "output_type": "execute_result"
    }
   ],
   "source": [
    "# This cell is for testing purposes. The following\n",
    "# code-line should output an interest rate of 11 %:\n",
    "interest(values[0], values[-1], dates[-1] - dates[0])"
   ]
  },
  {
   "cell_type": "markdown",
   "id": "2c8c7aac-ee36-48e8-ab19-18c5fe8ec609",
   "metadata": {
    "tags": []
   },
   "source": [
    "## 2. Shorter time-horizons for an investment\n",
    "The MSCI index-chart suggests that the high 11% *mean* interest rate is not what you can expect for shorter investments. Indeed, you can loose a lot of money. For instance, the markets went down significantly after the year 2000 (the famous [dotcom bubble](https://en.wikipedia.org/wiki/Dot-com_bubble) which resulted from excessive speculations on internet-related companies)."
   ]
  },
  {
   "cell_type": "code",
   "execution_count": 271,
   "id": "1cd21bc6-0f30-48e1-bffe-0048213f7cc4",
   "metadata": {},
   "outputs": [
    {
     "name": "stdout",
     "output_type": "stream",
     "text": [
      "2001.08 2003.08\n",
      "-25.90133048942316\n"
     ]
    }
   ],
   "source": [
    "# Please convince yourself that the following lines calculate\n",
    "# the interest rate for an investment from 2001 to 2003\n",
    "# (we have data for each month starting from Dec. 1978).\n",
    "# I include this cell to give you some help for the tasks below.\n",
    "\n",
    "# You should get a result of -0.259 (another test of your function\n",
    "# 'interest' above).\n",
    "x = values[1 + 12 * 22]\n",
    "y = values[1 + 12 * 24]\n",
    "n = dates[1 + 12 * 24] - dates[1 + 12 * 22]\n",
    "print(dates[1 + 12 * 22], dates[1 + 12 * 24])\n",
    "print(interest(x, y, n))"
   ]
  },
  {
   "cell_type": "markdown",
   "id": "77208259-d082-429f-8900-be7a90477eb0",
   "metadata": {},
   "source": [
    "Please create now a `numpy-array` `interests` which contains the interests *for all possible MSCI investments of exactly one year*. The first entry of your array is the interest rate for an investment between Dec. 1978 and Dec. 1979, the second entry represents an investment from Jan. 1979 to Jan. 1980, the third one from Feb. 1979 to Feb. 1980 an so on.\n",
    "\n",
    "Plot a histogram of your `interests` array - please have a look at the function `plt.hist` for this.\n",
    "\n",
    "Calculate mean and standard deviation of your `interests` array. Which was to-date the best and which the worst year for a one-year investment into the MSCI-World. Print all these quantities.\n",
    "\n",
    "**Hints:**\n",
    "(1) The function `interest` accepting `numpy`-arrays and array-slicing of the `dates` and `values` arrays allows you to get the `interests` array in about three very short lines; (2) For the last part of this task, the functions `np.argmin` and `np.argmax` might be helpful."
   ]
  },
  {
   "cell_type": "code",
   "execution_count": 272,
   "id": "33cb289d-788a-437d-b9de-8ae656145acf",
   "metadata": {
    "scrolled": false
   },
   "outputs": [
    {
     "name": "stdout",
     "output_type": "stream",
     "text": [
      "The mean of the interests is 12.681114316930316\n",
      "The standard deviation is 18.96026299698486\n",
      "The worst year so for one-year investment was 2002.23\n",
      "The best year so for one-year investment was 1982.46\n"
     ]
    },
    {
     "data": {
      "image/png": "[encoded data removed]",
      "text/plain": [
       "<Figure size 864x288 with 2 Axes>"
      ]
     },
     "metadata": {
      "needs_background": "light"
     },
     "output_type": "display_data"
    }
   ],
   "source": [
    "# Your solution here please\n",
    "\n",
    "# Importing some additional packages for making colorful plots\n",
    "from matplotlib import colors\n",
    "from matplotlib.ticker import PercentFormatter\n",
    "\n",
    "interests = [] # declaring an interests array\n",
    "\n",
    "for j in range(0, int(len(dates))):\n",
    "    if j + 13 > len(dates): break\n",
    "    x = values[j]\n",
    "    y = values[j + 12]\n",
    "    n = dates[j + 12] - dates[j]\n",
    "    interests.append(interest(x, y, n))\n",
    "\n",
    "x = interests \n",
    "n_bins = 15\n",
    "\n",
    "fig, axs = plt.subplots(1, 2, figsize = (12, 4), tight_layout=True)\n",
    "\n",
    "# N is the count in each bin, bins is the lower-limit of the bin, size gives the range of the histogram\n",
    "N, bins, interval = axs[0].hist(x, bins=n_bins)\n",
    "\n",
    "# Color coding by height\n",
    "fracs = N / N.max()\n",
    "\n",
    "# Normalizing the data for full range of the colormap\n",
    "norm = colors.Normalize(fracs.min(), fracs.max())\n",
    "\n",
    "# Now, we'll loop through our objects and set the color of each accordingly\n",
    "for thisfrac, thisinterval in zip(fracs, interval):\n",
    "    color = plt.cm.inferno(norm(thisfrac))\n",
    "#     print(thisfrac, thisinterval)\n",
    "    thisinterval.set_facecolor(color)\n",
    "    \n",
    "# We can also normalize our inputs by the total number of counts\n",
    "axs[1].hist(x, bins=n_bins, density=True)\n",
    "\n",
    "# Now we format the y-axis to display percentage\n",
    "axs[1].yaxis.set_major_formatter(PercentFormatter(xmax=1))\n",
    "\n",
    "print(\"The mean of the interests is\", np.mean(interests))\n",
    "print(\"The standard deviation is\", np.std(interests))\n",
    "print(\"The worst year so for one-year investment was\", dates[np.argmin(interests)])\n",
    "print(\"The best year so for one-year investment was\", dates[np.argmax(interests)])"
   ]
  },
  {
   "cell_type": "markdown",
   "id": "c918b554-0519-49c5-9e64-6b8c9fbf3e08",
   "metadata": {},
   "source": [
    "Please generalise your code from the last cell to work with an arbitrary investment period. Introduce a variable `years`. This variable should be the only place you need to change to obtain your histogram for an investment time-horizon `years`. Look at the histograms for different times between one and 30 years. What do you observe?\n",
    "\n",
    "You ask a student peer for the expected interest-rate of an $n$-year investment into the MSCI-World. She answers something like:\n",
    "\n",
    "$$\n",
    "z_{n} = z_{n, \\rm{mean}} \\pm \\sigma_{n},\n",
    "$$\n",
    "\n",
    "where $z_{n, \\rm{mean}}$ and $\\sigma_{n}$ are the mean and standard deviations from above. Is this description of interest-rate and its error justified statistically (hint: gaussian random variable)? What would you do if somebody asked you for the expected interest-rate and an uncertainty on that quantity? "
   ]
  },
  {
   "cell_type": "code",
   "execution_count": 375,
   "id": "2e7490a5",
   "metadata": {},
   "outputs": [
    {
     "name": "stdout",
     "output_type": "stream",
     "text": [
      "10783\n"
     ]
    },
    {
     "data": {
      "text/plain": [
       "<matplotlib.lines.Line2D at 0x29ec72ca0>"
      ]
     },
     "execution_count": 375,
     "metadata": {},
     "output_type": "execute_result"
    },
    {
     "data": {
      "image/png": "[encoded data removed]",
      "text/plain": [
       "<Figure size 432x288 with 1 Axes>"
      ]
     },
     "metadata": {
      "needs_background": "light"
     },
     "output_type": "display_data"
    }
   ],
   "source": [
    "# In order to generalize the code, we introduce a for-loop to loop \n",
    "# over different time periods from 1-30 years\n",
    "\n",
    "interests = np.array([])\n",
    "period = np.array([])\n",
    "meanmat = np.array([])\n",
    "count_period = np.array([])\n",
    "themax = np.array([])\n",
    "themin = np.array([])\n",
    "# i=0\n",
    "# for j in range(0, int(len(dates))):\n",
    "#     for k in range(12, (12 * len(dates)), 12):\n",
    "#         if j + (k + 1) > len(dates): break\n",
    "# #         print(k)\n",
    "#         x = values[j]\n",
    "#         y = values[j + k]\n",
    "#         n = dates[j + k] - dates[j]\n",
    "# #         print(dates[j], dates[j + k])\n",
    "#         interests.append(interest(x, y, n))\n",
    "#         period.append(n)\n",
    "#     i+=1\n",
    "#     print(i)    \n",
    "#     mean.append(np.mean(interests[j:i*k]))\n",
    "\n",
    "# print(dates[-1] - dates[0])\n",
    "for j in range(12, (12 * int((dates[-1] - dates[0]))), 12):\n",
    "    for k in range(0, int(len(dates))):\n",
    "        if k + (j + 1) > len(dates): \n",
    "#             print (k)\n",
    "            break\n",
    "#         print(k)\n",
    "        x = values[k]\n",
    "        y = values[k + j]\n",
    "        n = dates[k + j] - dates[k]\n",
    "#         print(dates[k], dates[k + j])\n",
    "        interests = np.append(interests, interest(x, y, n))\n",
    "        period = np.append(period, n)\n",
    "#     meanmat = np.append(meanmat, np.mean(interests[]))\n",
    "#         m.append(interest(x,y,n))\n",
    "#     meanmat.append(np.mean(m))\n",
    "#     meanmat.append(np.mean(interests[]))\n",
    "        \n",
    "\n",
    "    \n",
    "# period = list(map(int, period))\n",
    "print(period.size)\n",
    "\n",
    "# interests = np.asarray(interests)\n",
    "# period = np.asarray(period)\n",
    "for dur in range(1, int((dates[-1] - dates[0]))):\n",
    "#     print(interests[period == dur])\n",
    "    mean = np.mean(interests[np.where(period == dur)])\n",
    "#     print(mean)\n",
    "#     themax = np.append(themax, interests[np.argmax(interests(period == dur))])\n",
    "    themax = np.append(themax, np.amax(interests[np.where(period == dur)]))\n",
    "#     themin = np.append(themin, interests[np.argmin(period == dur)])\n",
    "    themin = np.append(themin, np.amin(interests[np.where(period == dur)]))\n",
    "    meanmat = np.append(meanmat, mean)\n",
    "\n",
    "# print(meanmat.size)\n",
    "# print(period.size)\n",
    "# time = [1, 5, 10, 15, 20, 25, 30]\n",
    "xx = np.linspace(0, int((dates[-1] - dates[0])), int((dates[-1] - dates[0])) - 1)\n",
    "# interests = interests[np.where(interests < 70)]\n",
    "plt.plot(period, interests, \"o\",markersize='1')\n",
    "plt.plot(xx, meanmat, color='r', marker='.', markersize = '0.1')\n",
    "plt.plot(xx, themax, color='green', marker='.', markersize = '0.1')\n",
    "plt.plot(xx, themin, color='yellow', marker='o', markersize = '1')\n",
    "plt.axhline(y = 0, color = 'r')"
   ]
  },
  {
   "cell_type": "markdown",
   "id": "93200d4b-e9f6-46b0-af66-698bf4c18bbe",
   "metadata": {},
   "source": [
    "## Your answer here please"
   ]
  },
  {
   "cell_type": "markdown",
   "id": "f336bf04-df8a-41ab-82a6-eb5df023ef2b",
   "metadata": {},
   "source": [
    "Please use what you have done up to now to reproduce the following plot:\n",
    "\n",
    "<img src=\"figs/interest_rates.png\" width=\"400\" height=\"200\" />"
   ]
  },
  {
   "cell_type": "code",
   "execution_count": 376,
   "id": "4473619e-074b-402c-a917-f63e98a791c7",
   "metadata": {},
   "outputs": [],
   "source": [
    "# Your solution here please\n"
   ]
  },
  {
   "cell_type": "markdown",
   "id": "4ba7e1fb-28d5-475d-aee0-6b273e2f8fec",
   "metadata": {},
   "source": [
    "How should you invest into the MSCI-World if you would like to be (statistically) sure not to loose money with your investment?"
   ]
  },
  {
   "cell_type": "markdown",
   "id": "5fa7e8bc-e43d-4803-9962-383e67f3b4fc",
   "metadata": {},
   "source": [
    "## Your solution here please"
   ]
  },
  {
   "cell_type": "markdown",
   "id": "ece0aa94-0d0e-4981-bfa4-02f1c354fe63",
   "metadata": {},
   "source": [
    "## 3. When is the right time to invest?"
   ]
  },
  {
   "cell_type": "markdown",
   "id": "2b93dcdc-ede5-483a-8f7e-b245ef0c7904",
   "metadata": {},
   "source": [
    "We have three friends who want to invest into the stock market:\n",
    "\n",
    "- Amelie is a bit clumsy and she invests her money at a peak of the MSCI-index chart, i.e. stocks are very expensive at that time.\n",
    "- Linda is very smart and she manages to time her investment to a dip in the MSCI-index chart.\n",
    "- Lydia does not care and she just decides to invest *right now*, no matter what the chart says or what analysts tell her."
   ]
  },
  {
   "cell_type": "markdown",
   "id": "278dd2b5-a964-43dc-9cd9-8c1a86ec15f3",
   "metadata": {},
   "source": [
    "You would like to investigate for your own strategy whether anyone of the three friends does significantly better or worse than the others. From the previous task, you obtained a time-horizon with which you are quite sure not to loose many in the long-term. Choose that timeframe `my_time` in the following. "
   ]
  },
  {
   "cell_type": "markdown",
   "id": "1e6b3e68-e96a-4efa-810a-f2a699943695",
   "metadata": {},
   "source": [
    "1. Determine all the local maxima of the MSCI-World index curve and calculate all the interests starting at those maxima. Visualise your result in a histogram. This obviously shows the expected results from Amelies strategy.\n",
    "2. Repeat subtask 1 but with the minima of the index curve as starting points for the investement. This simulates Lindas investements.\n",
    "3. Finally, to get Lydias concept, perform the analysis with random starting points for her investments.\n",
    "\n",
    "**Hints:** (1) Please see [this task from the lecture preview](03_Lecture_Review.ipynb/#min_max)) on how to get the minima and maxima; (2) Have a look at the function `nr.randint` to obtain starting points for the investement investments.\n",
    "\n",
    "What are your conclusions from these simulations?"
   ]
  },
  {
   "cell_type": "code",
   "execution_count": null,
   "id": "e82e79c4-a0ce-440a-8328-10daa5a825b9",
   "metadata": {},
   "outputs": [],
   "source": [
    "# your solution here please"
   ]
  },
  {
   "cell_type": "markdown",
   "id": "6296e960-b6ef-4c89-9e2d-6f6d8348b084",
   "metadata": {},
   "source": [
    "## Your solution here please"
   ]
  },
  {
   "cell_type": "markdown",
   "id": "644c8437-40f7-48c9-8ffc-486179a89008",
   "metadata": {},
   "source": [
    "## Epilogue"
   ]
  },
  {
   "cell_type": "markdown",
   "id": "3a757aa8-8ef6-45fe-9aa1-d942628a3688",
   "metadata": {},
   "source": [
    "We investigated the consequences of a *one-time* investment into the MSCI-World index. In most cases, people do not have a large amount of money they can invest in a single-shot. Instead, a typical investment is with a regular savings rate, e.g. an investment of 100 Euros per month. Although the calculations for this case are a bit more complicated, you could do all of them with what you know already! You will notice that the results are very similar but the time-frame of your investment needs to be longer to reach the *no-loss* zone.\n",
    "\n",
    "I am doing monthly investments into the MSCI-World myself as part of my retirement provision. If you are interested, here is a [very good german video playlist](https://www.youtube.com/watch?v=R8fUq8e8I-I&list=PLIRB0hpiwW9D5vpLBeTucW9EAM_ub7SfE) on how you can start yourself. With a time-horizon of about 40 years until retirement and a lot of time for the compound interest effect to be effective, you could easily obtain a significant bonus for your retirement with only a moderate investment each month. Albert Einstein once called the compound interest effect the eigth world wonder! "
   ]
  },
  {
   "cell_type": "code",
   "execution_count": null,
   "id": "620160c0-3124-4e99-be74-bfb36fae96d9",
   "metadata": {},
   "outputs": [],
   "source": []
  }
 ],
 "metadata": {
  "kernelspec": {
   "display_name": "Python 3 (ipykernel)",
   "language": "python",
   "name": "python3"
  },
  "language_info": {
   "codemirror_mode": {
    "name": "ipython",
    "version": 3
   },
   "file_extension": ".py",
   "mimetype": "text/x-python",
   "name": "python",
   "nbconvert_exporter": "python",
   "pygments_lexer": "ipython3",
   "version": "3.9.7"
  }
 },
 "nbformat": 4,
 "nbformat_minor": 5
}
